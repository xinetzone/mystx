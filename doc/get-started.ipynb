{
 "cells": [
  {
   "cell_type": "markdown",
   "metadata": {},
   "source": [
    "# 快速入门\n",
    "\n",
    "先决条件：您应该对 [Sphinx 生态系统](http://www.sphinx-doc.org/) 有所了解，并且已经在本地计算机上安装了 Sphinx。\n",
    "\n",
    "## 安装并激活主题\n",
    "\n",
    "首先使用 `pip` 安装 `xyzstyle`：\n",
    "\n",
    "```shell\n",
    "pip install xyzstyle\n",
    "```\n",
    "\n",
    "然后，在您的 Sphinx 配置文件（ `conf.py` ）中激活主题：\n",
    "```{code-block} python\n",
    ":caption: conf.py\n",
    "\n",
    "...\n",
    "html_theme = \"xyzstyle\"\n",
    "...\n",
    "```\n",
    "\n",
    "配置 {confval}`html_theme` 将为您的文档激活 `xyzstyle` 主题。\n"
   ]
  },
  {
   "cell_type": "markdown",
   "metadata": {},
   "source": [
    "## 进阶教程"
   ]
  },
  {
   "cell_type": "markdown",
   "metadata": {},
   "source": [
    "```{gallery-grid}\n",
    ":grid-columns: 1 2 2 3\n",
    "\n",
    "- header: \"{fab}`config;pst-color-primary` [](./configs/base)\"\n",
    "  content: \"包含了可用的基本配置选项说明，可以直接使用。\"\n",
    "- header: \"{fab}`config;pst-color-primary` {daobook}`sphinx`\"\n",
    "  content: \"Sphinx 中文教程。\"\n",
    "- header: \"{fas}`book;pst-color-primary` {daobook}`sphinx-book-theme` \"\n",
    "  content: \"{mod}`xyzstyle` 的父主题是 `sphinx-book-theme` 主题。\"\n",
    "- header: \"{fas}`book;pst-color-primary` {daobook}`pydata-sphinx-theme` \"\n",
    "  content: \"`sphinx-book-theme` 的父主题是 `pydata-sphinx-theme` 主题。\"\n",
    "- header: \"{fas}`book;pst-color-primary` {daobook}`MyST-NB` \"\n",
    "  content: \"用于将 Jupyter 笔记本编译为高质量文档格式的 Sphinx 和 Docutils 扩展。\"\n",
    "- header: \"{fas}`book;pst-color-primary` {daobook}`MyST-Parser` \"\n",
    "  content: \"用于解析 MyST 的 Sphinx 和 Docutils 扩展，MyST 是一种丰富且可扩展的 Markdown 风格，用于编写技术和科学文档。\"\n",
    "- header: \"{fas}`book;pst-color-primary` {daobook}`sphinx-autoapi`\"\n",
    "  content: \"Sphinx AutoAPI 是用于生成完整 API 文档的 Sphinx 扩展，无需加载、运行或导入正在记录的项目。\"\n",
    "- header: \"{fas}`book;pst-color-primary` {daobook}`sphinx-design` 中文文档\"\n",
    "  content: \"设计简洁的 Sphinx 主题，支持互动内容，并具有现代书籍般的外观和感觉。\"\n",
    "- header: \"{fas}`book;pst-color-primary` {daobook}`sphinx-intl` 中文文档\"\n",
    "  content: \"用于翻译 Sphinx 文档的工具。\"\n",
    "```"
   ]
  }
 ],
 "metadata": {
  "kernelspec": {
   "display_name": "ai",
   "language": "python",
   "name": "python3"
  },
  "language_info": {
   "name": "python",
   "version": "3.12.2"
  }
 },
 "nbformat": 4,
 "nbformat_minor": 2
}
