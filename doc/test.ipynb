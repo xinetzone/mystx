{
 "cells": [
  {
   "cell_type": "markdown",
   "id": "7564130a",
   "metadata": {},
   "source": [
    "# 测试文档"
   ]
  },
  {
   "cell_type": "markdown",
   "id": "d9c8b885",
   "metadata": {},
   "source": [
    "```{code-block} python\n",
    ":class: thebe\n",
    "print(\"hello world!\")\n",
    "```"
   ]
  },
  {
   "cell_type": "code",
   "execution_count": 1,
   "id": "c2aab2bf",
   "metadata": {},
   "outputs": [
    {
     "data": {
      "text/plain": [
       "2"
      ]
     },
     "execution_count": 1,
     "metadata": {},
     "output_type": "execute_result"
    }
   ],
   "source": [
    "1 + 1"
   ]
  },
  {
   "cell_type": "markdown",
   "id": "a0e27ca7",
   "metadata": {},
   "source": [
    "\n",
    "$$\n",
    "\\nabla^2 f =\n",
    "\\frac{1}{r^2} \\frac{\\partial}{\\partial r}\n",
    "\\left( r^2 \\frac{\\partial f}{\\partial r} \\right) +\n",
    "\\frac{1}{r^2 \\sin \\theta} \\frac{\\partial f}{\\partial \\theta}\n",
    "\\left( \\sin \\theta \\, \\frac{\\partial f}{\\partial \\theta} \\right) +\n",
    "\\frac{1}{r^2 \\sin^2\\theta} \\frac{\\partial^2 f}{\\partial \\phi^2}\n",
    "$$"
   ]
  }
 ],
 "metadata": {
  "kernelspec": {
   "display_name": "py313",
   "language": "python",
   "name": "python3"
  },
  "language_info": {
   "codemirror_mode": {
    "name": "ipython",
    "version": 3
   },
   "file_extension": ".py",
   "mimetype": "text/x-python",
   "name": "python",
   "nbconvert_exporter": "python",
   "pygments_lexer": "ipython3",
   "version": "3.13.5"
  }
 },
 "nbformat": 4,
 "nbformat_minor": 5
}
